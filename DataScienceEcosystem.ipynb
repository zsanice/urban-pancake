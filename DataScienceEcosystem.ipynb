{
 "cells": [
  {
   "cell_type": "markdown",
   "id": "09777f21-dc3d-4eba-8343-e17056f0ccec",
   "metadata": {},
   "source": [
    "# Data Science Tools and Ecosystem"
   ]
  },
  {
   "attachments": {},
   "cell_type": "markdown",
   "id": "ce84186b-eb30-4bd1-9839-78bb8f97d0c9",
   "metadata": {},
   "source": [
    "In this notebook, Data Science Tools and Ecosystem are summarized"
   ]
  },
  {
   "cell_type": "markdown",
   "id": "cabfa068-e590-48d6-ab93-753498d59fc6",
   "metadata": {},
   "source": [
    "#### Objectives"
   ]
  },
  {
   "cell_type": "markdown",
   "id": "0b5aa2cc-040d-4737-806b-783ce9ebaabd",
   "metadata": {},
   "source": [
    "- Understand the different functions in Jupyter Notebook\n",
    "- Learn the popular languages in Data Science\n",
    "- Understand the commonly used libraries in Data Science\n",
    "- Learn the top 3 tools used in Data Science\n",
    "- Practice using simple arithmetic expressions in Python\n"
   ]
  },
  {
   "attachments": {},
   "cell_type": "markdown",
   "id": "af9b3d80-8bd1-4ad8-a61d-0ce421cf53f2",
   "metadata": {},
   "source": [
    "Some of the popular languages that Data Scientists use are: \n",
    "1. Python\n",
    "2. R\n",
    "3. SQL\n"
   ]
  },
  {
   "attachments": {},
   "cell_type": "markdown",
   "id": "b9156c9b-be9d-4894-b4f9-7906c2a8c7ad",
   "metadata": {},
   "source": [
    "Some of the commonly used libraries used by Data Scientists include:\n",
    "\n",
    "1. Pandas\n",
    "2. NumPy\n",
    "3. Scikit-learn\n"
   ]
  },
  {
   "attachments": {},
   "cell_type": "markdown",
   "id": "69067286-e1fe-46dc-aa11-49d0d39cd5d4",
   "metadata": {},
   "source": [
    "| Data Science Tools |\n",
    "|---------|\n",
    "| Jupyter Notebook  |\n",
    "| R Studio  |\n",
    "| Apache Zeppelin  |\n"
   ]
  },
  {
   "attachments": {},
   "cell_type": "markdown",
   "id": "f48aef74-289f-43d8-8e7e-ece6a97ba59c",
   "metadata": {},
   "source": [
    "### Below are examples of evaluating arithmetic expressions in Python"
   ]
  },
  {
   "cell_type": "code",
   "execution_count": 3,
   "id": "d1c50cd6-6a0e-4710-83a8-565816c8100c",
   "metadata": {},
   "outputs": [
    {
     "data": {
      "text/plain": [
       "17"
      ]
     },
     "execution_count": 3,
     "metadata": {},
     "output_type": "execute_result"
    }
   ],
   "source": [
    "(3*4)+5"
   ]
  },
  {
   "cell_type": "markdown",
   "id": "a2595c28-8712-4e1e-85d8-437ee83b81ed",
   "metadata": {},
   "source": [
    "This will convert 200 minutes to hours by diving by 60"
   ]
  },
  {
   "cell_type": "code",
   "execution_count": 4,
   "id": "10b19a3f-a53a-49ce-a2fd-0309052414af",
   "metadata": {},
   "outputs": [
    {
     "data": {
      "text/plain": [
       "3.3333333333333335"
      ]
     },
     "execution_count": 4,
     "metadata": {},
     "output_type": "execute_result"
    }
   ],
   "source": [
    "(200/60)"
   ]
  },
  {
   "cell_type": "markdown",
   "id": "f1f07738-c306-4f1d-8bc6-0ee5687c87b8",
   "metadata": {},
   "source": [
    "## Author"
   ]
  },
  {
   "cell_type": "markdown",
   "id": "937f3989-d614-460b-b8fa-ceaa123cd439",
   "metadata": {},
   "source": [
    "Karmella Laryutin"
   ]
  }
 ],
 "metadata": {
  "kernelspec": {
   "display_name": "Python 3 (ipykernel)",
   "language": "python",
   "name": "python3"
  },
  "language_info": {
   "codemirror_mode": {
    "name": "ipython",
    "version": 3
   },
   "file_extension": ".py",
   "mimetype": "text/x-python",
   "name": "python",
   "nbconvert_exporter": "python",
   "pygments_lexer": "ipython3",
   "version": "3.11.6"
  }
 },
 "nbformat": 4,
 "nbformat_minor": 5
}
