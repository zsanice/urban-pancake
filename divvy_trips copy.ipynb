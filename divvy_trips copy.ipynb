{
 "cells": [
  {
   "cell_type": "code",
   "execution_count": 80,
   "metadata": {},
   "outputs": [],
   "source": [
    "import pandas as pd\n",
    "import numpy as np\n",
    "import matplotlib.pyplot as plt\n",
    "from datetime import datetime\n",
    "from dateutil import parser"
   ]
  },
  {
   "cell_type": "code",
   "execution_count": 81,
   "metadata": {},
   "outputs": [],
   "source": [
    "filename = '/Users/mela/Projects/Data/Divvy_Exercise/Divvy_Trips_2020_Q1.csv','/Users/mela/Projects/Data/Divvy_Exercise/Divvy_Trips_2019_Q2.csv','/Users/mela/Projects/Data/Divvy_Exercise/Divvy_Trips_2019_Q3.csv','/Users/mela/Projects/Data/Divvy_Exercise/Divvy_Trips_2019_Q4.csv'"
   ]
  },
  {
   "cell_type": "code",
   "execution_count": 82,
   "metadata": {},
   "outputs": [],
   "source": [
    "q2_2019 = pd.read_csv('/Users/mela/Projects/Data/Divvy_Exercise/Divvy_Trips_2019_Q2.csv')\n",
    "q3_2019 = pd.read_csv('/Users/mela/Projects/Data/Divvy_Exercise/Divvy_Trips_2019_Q3.csv')\n",
    "q4_2019 = pd.read_csv('/Users/mela/Projects/Data/Divvy_Exercise/Divvy_Trips_2019_Q4.csv')\n",
    "q1_2020 = pd.read_csv('/Users/mela/Projects/Data/Divvy_Exercise/Divvy_Trips_2020_Q1.csv')"
   ]
  },
  {
   "cell_type": "markdown",
   "metadata": {},
   "source": []
  },
  {
   "cell_type": "code",
   "execution_count": 83,
   "metadata": {},
   "outputs": [],
   "source": [
    "column_names_q2_2019 = q2_2019.columns\n",
    "column_names_q3_2019 = q3_2019.columns\n",
    "column_names_q4_2019 = q4_2019.columns\n",
    "column_names_q1_2020 = q1_2020.columns\n"
   ]
  },
  {
   "cell_type": "code",
   "execution_count": 84,
   "metadata": {},
   "outputs": [],
   "source": [
    "q2_2019 = q2_2019.rename(columns=dict(zip(column_names_q2_2019, column_names_q1_2020)))\n",
    "q3_2019 = q3_2019.rename(columns=dict(zip(column_names_q3_2019, column_names_q1_2020)))\n",
    "q4_2019 = q4_2019.rename(columns=dict(zip(column_names_q4_2019, column_names_q1_2020)))\n"
   ]
  },
  {
   "cell_type": "code",
   "execution_count": 85,
   "metadata": {},
   "outputs": [
    {
     "name": "stdout",
     "output_type": "stream",
     "text": [
      "Shape of q2_2019: (1108163, 12)\n",
      "Shape of q3_2019: (1640718, 12)\n",
      "Shape of q4_2019: (704054, 12)\n",
      "Shape of q1_2020: (426887, 13)\n",
      "First few rows of q2_2019:\n",
      "    ride_id        rideable_type           started_at  ended_at  \\\n",
      "0  22178529  2019-04-01 00:02:22  2019-04-01 00:09:48      6251   \n",
      "1  22178530  2019-04-01 00:03:02  2019-04-01 00:20:30      6226   \n",
      "2  22178531  2019-04-01 00:11:07  2019-04-01 00:15:19      5649   \n",
      "3  22178532  2019-04-01 00:13:01  2019-04-01 00:18:58      4151   \n",
      "4  22178533  2019-04-01 00:19:26  2019-04-01 00:36:13      3270   \n",
      "\n",
      "  start_station_name  start_station_id           end_station_name  \\\n",
      "0              446.0                81         Daley Center Plaza   \n",
      "1            1,048.0               317        Wood St & Taylor St   \n",
      "2              252.0               283  LaSalle St & Jackson Blvd   \n",
      "3              357.0                26   McClurg Ct & Illinois St   \n",
      "4            1,007.0               202       Halsted St & 18th St   \n",
      "\n",
      "   end_station_id                  start_lat   start_lng end_lat  end_lng  \n",
      "0              56  Desplaines St & Kinzie St  Subscriber    Male   1975.0  \n",
      "1              59  Wabash Ave & Roosevelt Rd  Subscriber  Female   1984.0  \n",
      "2             174      Canal St & Madison St  Subscriber    Male   1990.0  \n",
      "3             133   Kingsbury St & Kinzie St  Subscriber    Male   1993.0  \n",
      "4             129  Blue Island Ave & 18th St  Subscriber    Male   1992.0  \n",
      "First few rows of q3_2019:\n",
      "    ride_id        rideable_type           started_at  ended_at  \\\n",
      "0  23479388  2019-07-01 00:00:27  2019-07-01 00:20:41      3591   \n",
      "1  23479389  2019-07-01 00:01:16  2019-07-01 00:18:44      5353   \n",
      "2  23479390  2019-07-01 00:01:48  2019-07-01 00:27:42      6180   \n",
      "3  23479391  2019-07-01 00:02:07  2019-07-01 00:27:10      5540   \n",
      "4  23479392  2019-07-01 00:02:13  2019-07-01 00:22:26      6014   \n",
      "\n",
      "  start_station_name  start_station_id               end_station_name  \\\n",
      "0            1,214.0               117       Wilton Ave & Belmont Ave   \n",
      "1            1,048.0               381        Western Ave & Monroe St   \n",
      "2            1,554.0               313  Lakeview Ave & Fullerton Pkwy   \n",
      "3            1,503.0               313  Lakeview Ave & Fullerton Pkwy   \n",
      "4            1,213.0               168         Michigan Ave & 14th St   \n",
      "\n",
      "   end_station_id                  start_lat   start_lng end_lat  end_lng  \n",
      "0             497  Kimball Ave & Belmont Ave  Subscriber    Male   1992.0  \n",
      "1             203      Western Ave & 21st St    Customer     NaN      NaN  \n",
      "2             144  Larrabee St & Webster Ave    Customer     NaN      NaN  \n",
      "3             144  Larrabee St & Webster Ave    Customer     NaN      NaN  \n",
      "4              62            McCormick Place    Customer     NaN      NaN  \n",
      "First few rows of q4_2019:\n",
      "    ride_id        rideable_type           started_at  ended_at  \\\n",
      "0  25223640  2019-10-01 00:01:39  2019-10-01 00:17:20      2215   \n",
      "1  25223641  2019-10-01 00:02:16  2019-10-01 00:06:34      6328   \n",
      "2  25223642  2019-10-01 00:04:32  2019-10-01 00:18:43      3003   \n",
      "3  25223643  2019-10-01 00:04:32  2019-10-01 00:43:43      3275   \n",
      "4  25223644  2019-10-01 00:04:34  2019-10-01 00:35:42      5294   \n",
      "\n",
      "  start_station_name  start_station_id                end_station_name  \\\n",
      "0              940.0                20    Sheffield Ave & Kingsbury St   \n",
      "1              258.0                19  Throop (Loomis) St & Taylor St   \n",
      "2              850.0                84       Milwaukee Ave & Grand Ave   \n",
      "3            2,350.0               313   Lakeview Ave & Fullerton Pkwy   \n",
      "4            1,867.0               210       Ashland Ave & Division St   \n",
      "\n",
      "   end_station_id                    start_lat   start_lng end_lat  end_lng  \n",
      "0             309    Leavitt St & Armitage Ave  Subscriber    Male   1987.0  \n",
      "1             241          Morgan St & Polk St  Subscriber    Male   1998.0  \n",
      "2             199       Wabash Ave & Grand Ave  Subscriber  Female   1991.0  \n",
      "3             290       Kedzie Ave & Palmer Ct  Subscriber    Male   1990.0  \n",
      "4             382  Western Ave & Congress Pkwy  Subscriber    Male   1987.0  \n",
      "First few rows of q1_2020:\n",
      "            ride_id rideable_type           started_at             ended_at  \\\n",
      "0  EACB19130B0CDA4A   docked_bike  2020-01-21 20:06:59  2020-01-21 20:14:30   \n",
      "1  8FED874C809DC021   docked_bike  2020-01-30 14:22:39  2020-01-30 14:26:22   \n",
      "2  789F3C21E472CA96   docked_bike  2020-01-09 19:29:26  2020-01-09 19:32:17   \n",
      "3  C9A388DAC6ABF313   docked_bike  2020-01-06 16:17:07  2020-01-06 16:25:56   \n",
      "4  943BC3CBECCFD662   docked_bike  2020-01-30 08:37:16  2020-01-30 08:42:48   \n",
      "\n",
      "         start_station_name  start_station_id                end_station_name  \\\n",
      "0  Western Ave & Leland Ave               239           Clark St & Leland Ave   \n",
      "1   Clark St & Montrose Ave               234  Southport Ave & Irving Park Rd   \n",
      "2    Broadway & Belmont Ave               296        Wilton Ave & Belmont Ave   \n",
      "3    Clark St & Randolph St                51        Fairbanks Ct & Grand Ave   \n",
      "4      Clinton St & Lake St                66           Wells St & Hubbard St   \n",
      "\n",
      "   end_station_id  start_lat  start_lng  end_lat  end_lng member_casual  \n",
      "0           326.0    41.9665   -87.6884  41.9671 -87.6674        member  \n",
      "1           318.0    41.9616   -87.6660  41.9542 -87.6644        member  \n",
      "2           117.0    41.9401   -87.6455  41.9402 -87.6530        member  \n",
      "3            24.0    41.8846   -87.6319  41.8918 -87.6206        member  \n",
      "4           212.0    41.8856   -87.6418  41.8899 -87.6343        member  \n",
      "Missing values in q2_2019:\n",
      "ride_id                    0\n",
      "rideable_type              0\n",
      "started_at                 0\n",
      "ended_at                   0\n",
      "start_station_name         0\n",
      "start_station_id           0\n",
      "end_station_name           0\n",
      "end_station_id             0\n",
      "start_lat                  0\n",
      "start_lng                  0\n",
      "end_lat               185554\n",
      "end_lng               180953\n",
      "dtype: int64\n",
      "Missing values in q3_2019:\n",
      "ride_id                    0\n",
      "rideable_type              0\n",
      "started_at                 0\n",
      "ended_at                   0\n",
      "start_station_name         0\n",
      "start_station_id           0\n",
      "end_station_name           0\n",
      "end_station_id             0\n",
      "start_lat                  0\n",
      "start_lng                  0\n",
      "end_lat               287350\n",
      "end_lng               278094\n",
      "dtype: int64\n",
      "Missing values in q4_2019:\n",
      "ride_id                   0\n",
      "rideable_type             0\n",
      "started_at                0\n",
      "ended_at                  0\n",
      "start_station_name        0\n",
      "start_station_id          0\n",
      "end_station_name          0\n",
      "end_station_id            0\n",
      "start_lat                 0\n",
      "start_lng                 0\n",
      "end_lat               66591\n",
      "end_lng               61681\n",
      "dtype: int64\n",
      "Missing values in q1_2020:\n",
      "ride_id               0\n",
      "rideable_type         0\n",
      "started_at            0\n",
      "ended_at              0\n",
      "start_station_name    0\n",
      "start_station_id      0\n",
      "end_station_name      1\n",
      "end_station_id        1\n",
      "start_lat             0\n",
      "start_lng             0\n",
      "end_lat               1\n",
      "end_lng               1\n",
      "member_casual         0\n",
      "dtype: int64\n",
      "Data types of columns in q2_2019:\n",
      "ride_id                 int64\n",
      "rideable_type          object\n",
      "started_at             object\n",
      "ended_at                int64\n",
      "start_station_name     object\n",
      "start_station_id        int64\n",
      "end_station_name       object\n",
      "end_station_id          int64\n",
      "start_lat              object\n",
      "start_lng              object\n",
      "end_lat                object\n",
      "end_lng               float64\n",
      "dtype: object\n",
      "Data types of columns in q3_2019:\n",
      "ride_id                 int64\n",
      "rideable_type          object\n",
      "started_at             object\n",
      "ended_at                int64\n",
      "start_station_name     object\n",
      "start_station_id        int64\n",
      "end_station_name       object\n",
      "end_station_id          int64\n",
      "start_lat              object\n",
      "start_lng              object\n",
      "end_lat                object\n",
      "end_lng               float64\n",
      "dtype: object\n",
      "Data types of columns in q4_2019:\n",
      "ride_id                 int64\n",
      "rideable_type          object\n",
      "started_at             object\n",
      "ended_at                int64\n",
      "start_station_name     object\n",
      "start_station_id        int64\n",
      "end_station_name       object\n",
      "end_station_id          int64\n",
      "start_lat              object\n",
      "start_lng              object\n",
      "end_lat                object\n",
      "end_lng               float64\n",
      "dtype: object\n",
      "Data types of columns in q1_2020:\n",
      "ride_id                object\n",
      "rideable_type          object\n",
      "started_at             object\n",
      "ended_at               object\n",
      "start_station_name     object\n",
      "start_station_id        int64\n",
      "end_station_name       object\n",
      "end_station_id        float64\n",
      "start_lat             float64\n",
      "start_lng             float64\n",
      "end_lat               float64\n",
      "end_lng               float64\n",
      "member_casual          object\n",
      "dtype: object\n"
     ]
    }
   ],
   "source": [
    "# Check the shape of the dataframes\n",
    "print(\"Shape of q2_2019:\", q2_2019.shape)\n",
    "print(\"Shape of q3_2019:\", q3_2019.shape)\n",
    "print(\"Shape of q4_2019:\", q4_2019.shape)\n",
    "print(\"Shape of q1_2020:\", q1_2020.shape)\n",
    "\n",
    "# Check the first few rows of the dataframes\n",
    "print(\"First few rows of q2_2019:\")\n",
    "print(q2_2019.head())\n",
    "\n",
    "print(\"First few rows of q3_2019:\")\n",
    "print(q3_2019.head())\n",
    "\n",
    "print(\"First few rows of q4_2019:\")\n",
    "print(q4_2019.head())\n",
    "\n",
    "print(\"First few rows of q1_2020:\")\n",
    "print(q1_2020.head())\n",
    "\n",
    "# Check for missing values\n",
    "print(\"Missing values in q2_2019:\")\n",
    "print(q2_2019.isnull().sum())\n",
    "\n",
    "print(\"Missing values in q3_2019:\")\n",
    "print(q3_2019.isnull().sum())\n",
    "\n",
    "print(\"Missing values in q4_2019:\")\n",
    "print(q4_2019.isnull().sum())\n",
    "\n",
    "print(\"Missing values in q1_2020:\")\n",
    "print(q1_2020.isnull().sum())\n",
    "\n",
    "# Check data types of columns\n",
    "print(\"Data types of columns in q2_2019:\")\n",
    "print(q2_2019.dtypes)\n",
    "\n",
    "print(\"Data types of columns in q3_2019:\")\n",
    "print(q3_2019.dtypes)\n",
    "\n",
    "print(\"Data types of columns in q4_2019:\")\n",
    "print(q4_2019.dtypes)\n",
    "\n",
    "print(\"Data types of columns in q1_2020:\")\n",
    "print(q1_2020.dtypes)\n",
    "\n"
   ]
  },
  {
   "cell_type": "code",
   "execution_count": 86,
   "metadata": {},
   "outputs": [],
   "source": [
    "q2_2019['ride_id'] = q2_2019['ride_id'].astype(str)\n",
    "q2_2019['rideable_type'] = q2_2019['rideable_type'].astype(str)\n",
    "\n",
    "q3_2019['ride_id'] = q3_2019['ride_id'].astype(str)\n",
    "q3_2019['rideable_type'] = q3_2019['rideable_type'].astype(str)\n",
    "\n",
    "q4_2019['ride_id'] = q4_2019['ride_id'].astype(str)\n",
    "q4_2019['rideable_type'] = q4_2019['rideable_type'].astype(str)\n",
    "\n",
    "q1_2020['ride_id'] = q1_2020['ride_id'].astype(str)\n",
    "q1_2020['rideable_type'] = q1_2020['rideable_type'].astype(str)\n"
   ]
  },
  {
   "cell_type": "code",
   "execution_count": 87,
   "metadata": {},
   "outputs": [
    {
     "name": "stdout",
     "output_type": "stream",
     "text": [
      "Shape of the big data frame: (3879822, 13)\n"
     ]
    }
   ],
   "source": [
    "# Stack individual quarter's data frames into one big data frame\n",
    "big_df = pd.concat([q2_2019, q3_2019, q4_2019, q1_2020], ignore_index=True)\n",
    "\n",
    "# Print the shape of the big data frame\n",
    "print(\"Shape of the big data frame:\", big_df.shape)\n"
   ]
  },
  {
   "cell_type": "code",
   "execution_count": 88,
   "metadata": {},
   "outputs": [],
   "source": [
    "column_names = big_df.columns"
   ]
  },
  {
   "cell_type": "code",
   "execution_count": 89,
   "metadata": {},
   "outputs": [
    {
     "name": "stdout",
     "output_type": "stream",
     "text": [
      "Number of rows in the dataframe: 3879822\n"
     ]
    }
   ],
   "source": [
    "num_rows = big_df.shape[0]\n",
    "print(\"Number of rows in the dataframe:\", num_rows)\n"
   ]
  },
  {
   "cell_type": "code",
   "execution_count": 90,
   "metadata": {},
   "outputs": [
    {
     "name": "stdout",
     "output_type": "stream",
     "text": [
      "Number of rows: 3879822\n",
      "Number of columns: 13\n"
     ]
    }
   ],
   "source": [
    "num_rows, num_columns = big_df.shape\n",
    "print(\"Number of rows:\", num_rows)\n",
    "print(\"Number of columns:\", num_columns)\n"
   ]
  },
  {
   "cell_type": "code",
   "execution_count": 91,
   "metadata": {},
   "outputs": [
    {
     "name": "stdout",
     "output_type": "stream",
     "text": [
      "ride_id                object\n",
      "rideable_type          object\n",
      "started_at             object\n",
      "ended_at               object\n",
      "start_station_name     object\n",
      "start_station_id        int64\n",
      "end_station_name       object\n",
      "end_station_id        float64\n",
      "start_lat              object\n",
      "start_lng              object\n",
      "end_lat                object\n",
      "end_lng               float64\n",
      "member_casual          object\n",
      "dtype: object\n"
     ]
    }
   ],
   "source": [
    "column_data_types = big_df.dtypes\n",
    "print(column_data_types)"
   ]
  },
  {
   "cell_type": "code",
   "execution_count": 92,
   "metadata": {},
   "outputs": [
    {
     "name": "stdout",
     "output_type": "stream",
     "text": [
      "       start_station_id  end_station_id       end_lng\n",
      "count      3.879822e+06    3.879821e+06  3.359093e+06\n",
      "mean       2.028972e+02    2.037552e+02  1.721041e+03\n",
      "std        1.571361e+02    1.571912e+02  6.901889e+02\n",
      "min        1.000000e+00    1.000000e+00 -8.777470e+01\n",
      "25%        7.700000e+01    7.700000e+01  1.971000e+03\n",
      "50%        1.740000e+02    1.740000e+02  1.986000e+03\n",
      "75%        2.910000e+02    2.910000e+02  1.992000e+03\n",
      "max        6.750000e+02    6.750000e+02  2.014000e+03\n"
     ]
    }
   ],
   "source": [
    "numeric_columns = big_df.select_dtypes(include=np.number).columns\n",
    "numeric_summary = big_df[numeric_columns].describe()\n",
    "print(numeric_summary)\n"
   ]
  },
  {
   "cell_type": "code",
   "execution_count": 93,
   "metadata": {},
   "outputs": [],
   "source": [
    "big_df['member_casual'] = big_df['member_casual'].replace({'member': 'Subscriber', 'Customer': 'casual'})\n"
   ]
  },
  {
   "cell_type": "code",
   "execution_count": 94,
   "metadata": {},
   "outputs": [],
   "source": [
    "import pandas as pd\n",
    "\n",
    "# Assuming 'all_trips' is your DataFrame and 'started_at' is the column with datetime information\n",
    "# First, ensure 'started_at' is a datetime column\n",
    "big_df['started_at'] = pd.to_datetime(big_df['started_at'])\n",
    "\n",
    "# Now create new columns for day, month, and year\n",
    "big_df = big_df.assign(\n",
    "    day=big_df['started_at'].dt.day,\n",
    "    month=big_df['started_at'].dt.month,\n",
    "    year=big_df['started_at'].dt.year\n",
    ")\n"
   ]
  },
  {
   "cell_type": "code",
   "execution_count": 95,
   "metadata": {},
   "outputs": [],
   "source": [
    "# Assuming 'all_trips' is your DataFrame and it has 'ended_at' and 'started_at' as datetime columns\n",
    "# First, ensure that 'ended_at' and 'started_at' are in datetime format\n",
    "big_df['ended_at'] = pd.to_datetime(big_df['ended_at'])\n",
    "big_df['started_at'] = pd.to_datetime(big_df['started_at'])\n",
    "\n",
    "# Calculate the ride length in minutes and create a new column\n",
    "big_df['ride_length'] = (big_df['ended_at'] - big_df['started_at']).dt.total_seconds() / 60\n"
   ]
  },
  {
   "cell_type": "code",
   "execution_count": 96,
   "metadata": {},
   "outputs": [],
   "source": [
    "big_df = big_df[big_df['ride_length'] >= 0]\n"
   ]
  },
  {
   "cell_type": "code",
   "execution_count": 97,
   "metadata": {},
   "outputs": [],
   "source": [
    "big_df.loc[:, 'member_casual'] = big_df['member_casual'].replace({'Subscriber': 'member', 'Customer': 'casual'})"
   ]
  },
  {
   "cell_type": "code",
   "execution_count": 98,
   "metadata": {},
   "outputs": [
    {
     "data": {
      "text/plain": [
       "3452935    member\n",
       "3452936    member\n",
       "3452937    member\n",
       "3452938    member\n",
       "3452939    member\n",
       "            ...  \n",
       "3879817    casual\n",
       "3879818    member\n",
       "3879819    casual\n",
       "3879820    member\n",
       "3879821    casual\n",
       "Name: member_casual, Length: 426770, dtype: object"
      ]
     },
     "execution_count": 98,
     "metadata": {},
     "output_type": "execute_result"
    }
   ],
   "source": [
    "big_df['member_casual']"
   ]
  },
  {
   "cell_type": "code",
   "execution_count": 99,
   "metadata": {},
   "outputs": [],
   "source": [
    "big_df.loc[:, 'member_casual'] = big_df.loc[:, 'member_casual'].replace({\n",
    "    'Subscriber': 'member',\n",
    "    'Customer': 'casual'\n",
    "})\n"
   ]
  },
  {
   "cell_type": "code",
   "execution_count": 100,
   "metadata": {},
   "outputs": [
    {
     "data": {
      "text/plain": [
       "3452935    member\n",
       "3452936    member\n",
       "3452937    member\n",
       "3452938    member\n",
       "3452939    member\n",
       "            ...  \n",
       "3879817    casual\n",
       "3879818    member\n",
       "3879819    casual\n",
       "3879820    member\n",
       "3879821    casual\n",
       "Name: member_casual, Length: 426770, dtype: object"
      ]
     },
     "execution_count": 100,
     "metadata": {},
     "output_type": "execute_result"
    }
   ],
   "source": [
    "big_df['member_casual']"
   ]
  },
  {
   "cell_type": "code",
   "execution_count": 101,
   "metadata": {},
   "outputs": [],
   "source": [
    "\n",
    "# Convert 'started_at' to datetime if it's not already\n",
    "big_df.loc[:, 'started_at'] = pd.to_datetime(big_df['started_at'])\n",
    "\n",
    "# Extract date components and create new columns\n",
    "big_df.loc[:, 'date'] =  big_df['started_at'].dt.date\n",
    "big_df.loc[:, 'month'] = big_df['started_at'].dt.strftime('%m')\n",
    "big_df.loc[:, 'day'] = big_df['started_at'].dt.strftime('%d')\n",
    "big_df.loc[:, 'year'] = big_df['started_at'].dt.strftime('%Y')\n",
    "big_df.loc[:, 'day_of_week'] = big_df['started_at'].dt.strftime('%A')\n"
   ]
  },
  {
   "cell_type": "code",
   "execution_count": 102,
   "metadata": {},
   "outputs": [],
   "source": [
    "# Convert 'ended_at' and 'started_at' to datetime if they're not already\n",
    "big_df.loc[:, 'ended_at'] = pd.to_datetime(big_df['ended_at'])\n",
    "big_df.loc[:, 'started_at'] = pd.to_datetime(big_df['started_at'])\n",
    "\n",
    "# Calculate the ride length in seconds and create a new column\n",
    "big_df.loc[:, 'ride_length'] = (big_df['ended_at'] - big_df['started_at']).dt.total_seconds()"
   ]
  },
  {
   "cell_type": "code",
   "execution_count": 103,
   "metadata": {},
   "outputs": [
    {
     "data": {
      "text/plain": [
       "'                  ride_id rideable_type          started_at  \\\\\\n3452935  EACB19130B0CDA4A   docked_bike 2020-01-21 20:06:59   \\n3452936  8FED874C809DC021   docked_bike 2020-01-30 14:22:39   \\n3452937  789F3C21E472CA96   docked_bike 2020-01-09 19:29:26   \\n3452938  C9A388DAC6ABF313   docked_bike 2020-01-06 16:17:07   \\n3452939  943BC3CBECCFD662   docked_bike 2020-01-30 08:37:16   \\n...                   ...           ...                 ...   \\n3879817  ADDAA33CEBCAE733   docked_bike 2020-03-10 10:40:06   \\n3879818  82B10FA3994BC66A   docked_bike 2020-03-07 15:25:55   \\n3879819  AA0D5AAA0B59C8AA   docked_bike 2020-03-01 13:12:38   \\n3879820  3296360A7BC20FB8   docked_bike 2020-03-07 18:02:45   \\n3879821  064EC7698E4FF9B3   docked_bike 2020-03-08 13:03:57   \\n\\n                   ended_at         start_station_name  start_station_id  \\\\\\n3452935 2020-01-21 20:14:30   Western Ave & Leland Ave               239   \\n3452936 2020-01-30 14:26:22    Clark St & Montrose Ave               234   \\n3452937 2020-01-09 19:32:17     Broadway & Belmont Ave               296   \\n3452938 2020-01-06 16:25:56     Clark St & Randolph St                51   \\n3452939 2020-01-30 08:42:48       Clinton St & Lake St                66   \\n...                     ...                        ...               ...   \\n3879817 2020-03-10 10:40:07                      HQ QR               675   \\n3879818 2020-03-07 16:14:03      Rush St & Superior St               161   \\n3879819 2020-03-01 13:38:29     Clark St & Lincoln Ave               141   \\n3879820 2020-03-07 18:13:18  Franklin St & Illinois St               672   \\n3879821 2020-03-08 13:32:27      Dearborn St & Erie St               110   \\n\\n                       end_station_name  end_station_id start_lat start_lng  \\\\\\n3452935           Clark St & Leland Ave           326.0   41.9665  -87.6884   \\n3452936  Southport Ave & Irving Park Rd           318.0   41.9616   -87.666   \\n3452937        Wilton Ave & Belmont Ave           117.0   41.9401  -87.6455   \\n3452938        Fairbanks Ct & Grand Ave            24.0   41.8846  -87.6319   \\n3452939           Wells St & Hubbard St           212.0   41.8856  -87.6418   \\n...                                 ...             ...       ...       ...   \\n3879817                           HQ QR           675.0   41.8899  -87.6803   \\n3879818    Sheridan Rd & Irving Park Rd           240.0   41.8958  -87.6259   \\n3879819       Ashland Ave & Division St           210.0   41.9157  -87.6346   \\n3879820    Stetson Ave & South Water St           264.0    41.891  -87.6355   \\n3879821           Michigan Ave & Oak St            85.0    41.894  -87.6293   \\n\\n         end_lat  end_lng member_casual day month  year  ride_length  \\\\\\n3452935  41.9671 -87.6674        member  21    01  2020        451.0   \\n3452936  41.9542 -87.6644        member  30    01  2020        223.0   \\n3452937  41.9402 -87.6530        member  09    01  2020        171.0   \\n3452938  41.8918 -87.6206        member  06    01  2020        529.0   \\n3452939  41.8899 -87.6343        member  30    01  2020        332.0   \\n...          ...      ...           ...  ..   ...   ...          ...   \\n3879817  41.8899 -87.6803        casual  10    03  2020          1.0   \\n3879818  41.9542 -87.6544        member  07    03  2020       2888.0   \\n3879819  41.9035 -87.6677        casual  01    03  2020       1551.0   \\n3879820  41.8868 -87.6223        member  07    03  2020        633.0   \\n3879821   41.901 -87.6238        casual  08    03  2020       1710.0   \\n\\n               date day_of_week  \\n3452935  2020-01-21     Tuesday  \\n3452936  2020-01-30    Thursday  \\n3452937  2020-01-09    Thursday  \\n3452938  2020-01-06      Monday  \\n3452939  2020-01-30    Thursday  \\n...             ...         ...  \\n3879817  2020-03-10     Tuesday  \\n3879818  2020-03-07    Saturday  \\n3879819  2020-03-01      Sunday  \\n3879820  2020-03-07    Saturday  \\n3879821  2020-03-08      Sunday  \\n\\n[426770 rows x 19 columns]'"
      ]
     },
     "execution_count": 103,
     "metadata": {},
     "output_type": "execute_result"
    }
   ],
   "source": [
    "str(big_df)"
   ]
  },
  {
   "cell_type": "code",
   "execution_count": 104,
   "metadata": {},
   "outputs": [
    {
     "name": "stdout",
     "output_type": "stream",
     "text": [
      "True\n"
     ]
    }
   ],
   "source": [
    "# Convert 'ride_length' to a numeric type, assuming it's a string representation of numbers\n",
    "big_df.loc[:, 'ride_length'] = pd.to_numeric(big_df['ride_length'], errors='coerce')\n",
    "\n",
    "# Check if 'ride_length' is numeric\n",
    "is_numeric = pd.api.types.is_numeric_dtype(big_df['ride_length'])\n",
    "print(is_numeric)  # This will print True if 'ride_length' is numeric\n"
   ]
  },
  {
   "cell_type": "code",
   "execution_count": 105,
   "metadata": {},
   "outputs": [],
   "source": [
    "# Assuming 'all_trips' is a pandas DataFrame\n",
    "big_df_v2 = big_df[(big_df['start_station_name'] != \"HQ QR\") & (big_df['ride_length'] >= 0)]\n"
   ]
  },
  {
   "cell_type": "code",
   "execution_count": 106,
   "metadata": {},
   "outputs": [
    {
     "name": "stdout",
     "output_type": "stream",
     "text": [
      "Mean: 1338.6965139913027\n",
      "Median: 555.0\n",
      "Max: 9387024.0\n",
      "Min: 1.0\n"
     ]
    }
   ],
   "source": [
    "# Calculate mean of ride_length\n",
    "mean_ride_length = big_df_v2['ride_length'].mean()\n",
    "\n",
    "# Calculate median of ride_length\n",
    "median_ride_length = big_df_v2['ride_length'].median()\n",
    "\n",
    "# Calculate maximum of ride_length\n",
    "max_ride_length = big_df_v2['ride_length'].max()\n",
    "\n",
    "# Calculate minimum of ride_length\n",
    "min_ride_length = big_df_v2['ride_length'].min()\n",
    "\n",
    "# You can print these values if you want to see them\n",
    "print(f\"Mean: {mean_ride_length}\")\n",
    "print(f\"Median: {median_ride_length}\")\n",
    "print(f\"Max: {max_ride_length}\")\n",
    "print(f\"Min: {min_ride_length}\")\n"
   ]
  },
  {
   "cell_type": "code",
   "execution_count": 107,
   "metadata": {},
   "outputs": [
    {
     "name": "stdout",
     "output_type": "stream",
     "text": [
      "count    4.231200e+05\n",
      "mean     1.338697e+03\n",
      "std      3.730725e+04\n",
      "min      1.000000e+00\n",
      "25%      3.340000e+02\n",
      "50%      5.550000e+02\n",
      "75%      9.550000e+02\n",
      "max      9.387024e+06\n",
      "Name: ride_length, dtype: float64\n"
     ]
    }
   ],
   "source": [
    "ride_length_summary = big_df_v2['ride_length'].describe()\n",
    "\n",
    "print(ride_length_summary)\n"
   ]
  },
  {
   "cell_type": "code",
   "execution_count": 108,
   "metadata": {},
   "outputs": [
    {
     "name": "stdout",
     "output_type": "stream",
     "text": [
      "  member_casual  ride_length\n",
      "0        casual  6230.773360\n",
      "1        member   760.628714\n"
     ]
    }
   ],
   "source": [
    "# Group by 'member_casual' and then calculate the mean of 'ride_length'\n",
    "ride_length_means = big_df_v2.groupby('member_casual')['ride_length'].mean().reset_index()\n",
    "\n",
    "print(ride_length_means)\n"
   ]
  },
  {
   "cell_type": "code",
   "execution_count": 109,
   "metadata": {},
   "outputs": [
    {
     "name": "stdout",
     "output_type": "stream",
     "text": [
      "  member_casual  ride_length\n",
      "0        casual       1389.0\n",
      "1        member        515.0\n"
     ]
    }
   ],
   "source": [
    "ride_length_medians = big_df_v2.groupby('member_casual')['ride_length'].median().reset_index()\n",
    "\n",
    "print(ride_length_medians)"
   ]
  },
  {
   "cell_type": "code",
   "execution_count": 110,
   "metadata": {},
   "outputs": [
    {
     "name": "stdout",
     "output_type": "stream",
     "text": [
      "  member_casual  ride_length\n",
      "0        casual    9387024.0\n",
      "1        member    5627611.0\n"
     ]
    }
   ],
   "source": [
    "ride_length_max = big_df_v2.groupby('member_casual')['ride_length'].max().reset_index()\n",
    "\n",
    "print(ride_length_max)"
   ]
  },
  {
   "cell_type": "code",
   "execution_count": 111,
   "metadata": {},
   "outputs": [
    {
     "name": "stdout",
     "output_type": "stream",
     "text": [
      "  member_casual  ride_length\n",
      "0        casual          2.0\n",
      "1        member          1.0\n"
     ]
    }
   ],
   "source": [
    "ride_length_min= big_df_v2.groupby('member_casual')['ride_length'].min().reset_index()\n",
    "\n",
    "print(ride_length_min)"
   ]
  },
  {
   "cell_type": "code",
   "execution_count": 112,
   "metadata": {},
   "outputs": [
    {
     "name": "stdout",
     "output_type": "stream",
     "text": [
      "   member_casual day_of_week  ride_length\n",
      "0         casual      Friday  7907.888314\n",
      "1         casual      Monday  5818.343877\n",
      "2         casual    Saturday  6017.156016\n",
      "3         casual      Sunday  5710.566505\n",
      "4         casual    Thursday  8744.657440\n",
      "5         casual     Tuesday  5832.359372\n",
      "6         casual   Wednesday  5132.622573\n",
      "7         member      Friday   757.324131\n",
      "8         member      Monday   778.628587\n",
      "9         member    Saturday   929.989237\n",
      "10        member      Sunday   949.340146\n",
      "11        member    Thursday   693.232541\n",
      "12        member     Tuesday   692.032297\n",
      "13        member   Wednesday   699.547087\n"
     ]
    }
   ],
   "source": [
    "# Group by both 'member_casual' and 'day_of_week', then calculate the mean of 'ride_length'\n",
    "grouped_means = big_df_v2.groupby(['member_casual', 'day_of_week'])['ride_length'].mean().reset_index()\n",
    "\n",
    "print(grouped_means)\n",
    "\n"
   ]
  },
  {
   "cell_type": "code",
   "execution_count": 113,
   "metadata": {},
   "outputs": [],
   "source": [
    "\n",
    "# Assuming 'all_trips_v2' is a pandas DataFrame\n",
    "days_order = [\"Sunday\", \"Monday\", \"Tuesday\", \"Wednesday\", \"Thursday\", \"Friday\", \"Saturday\"]\n",
    "\n",
    "# Convert 'day_of_week' to a categorical type with the specified order\n",
    "big_df_v2.loc[:, 'day_of_week'] = pd.Categorical(big_df_v2['day_of_week'], categories=days_order, ordered=True)"
   ]
  },
  {
   "cell_type": "code",
   "execution_count": 114,
   "metadata": {},
   "outputs": [
    {
     "name": "stdout",
     "output_type": "stream",
     "text": [
      "   member_casual day_of_week  ride_length\n",
      "0         casual      Friday  7907.888314\n",
      "1         casual      Monday  5818.343877\n",
      "2         casual    Saturday  6017.156016\n",
      "3         casual      Sunday  5710.566505\n",
      "4         casual    Thursday  8744.657440\n",
      "5         casual     Tuesday  5832.359372\n",
      "6         casual   Wednesday  5132.622573\n",
      "7         member      Friday   757.324131\n",
      "8         member      Monday   778.628587\n",
      "9         member    Saturday   929.989237\n",
      "10        member      Sunday   949.340146\n",
      "11        member    Thursday   693.232541\n",
      "12        member     Tuesday   692.032297\n",
      "13        member   Wednesday   699.547087\n"
     ]
    }
   ],
   "source": [
    "# Group by 'member_casual' and 'day_of_week', then calculate the mean of 'ride_length'\n",
    "mean_ride_length = big_df_v2.groupby(['member_casual', 'day_of_week'])['ride_length'].mean().reset_index()\n",
    "\n",
    "print(mean_ride_length)\n"
   ]
  },
  {
   "cell_type": "code",
   "execution_count": 115,
   "metadata": {},
   "outputs": [
    {
     "name": "stdout",
     "output_type": "stream",
     "text": [
      "   member_casual    weekday  number_of_rides  average_duration\n",
      "1         casual     Monday             3699       5818.343877\n",
      "5         casual    Tuesday             4583       5832.359372\n",
      "6         casual  Wednesday             5201       5132.622573\n",
      "4         casual   Thursday             4227       8744.657440\n",
      "0         casual     Friday             4638       7907.888314\n",
      "2         casual   Saturday             7480       6017.156016\n",
      "3         casual     Sunday            14886       5710.566505\n",
      "8         member     Monday            61923        778.628587\n",
      "12        member    Tuesday            69697        692.032297\n",
      "13        member  Wednesday            63977        699.547087\n",
      "11        member   Thursday            61245        693.232541\n",
      "7         member     Friday            55496        757.324131\n",
      "9         member   Saturday            30104        929.989237\n",
      "10        member     Sunday            35964        949.340146\n"
     ]
    },
    {
     "name": "stderr",
     "output_type": "stream",
     "text": [
      "/var/folders/4m/q6fzllfn4xg4_dc9s1tjcd_m0000gn/T/ipykernel_6248/2356084739.py:2: SettingWithCopyWarning: \n",
      "A value is trying to be set on a copy of a slice from a DataFrame.\n",
      "Try using .loc[row_indexer,col_indexer] = value instead\n",
      "\n",
      "See the caveats in the documentation: https://pandas.pydata.org/pandas-docs/stable/user_guide/indexing.html#returning-a-view-versus-a-copy\n",
      "  big_df_v2['weekday'] = big_df_v2['started_at'].dt.day_name()\n"
     ]
    }
   ],
   "source": [
    "# 1. Add a 'weekday' column with weekday names\n",
    "big_df_v2['weekday'] = big_df_v2['started_at'].dt.day_name()\n",
    "\n",
    "# 2. Group by 'member_casual' and 'weekday'\n",
    "# 3. Summarize data: count rides and calculate average ride length\n",
    "summary = big_df_v2.groupby(['member_casual', 'weekday']).agg(\n",
    "    number_of_rides=pd.NamedAgg(column='ride_length', aggfunc='size'),\n",
    "    average_duration=pd.NamedAgg(column='ride_length', aggfunc='mean')\n",
    ").reset_index()\n",
    "\n",
    "# 4. Sort the DataFrame by 'member_casual' and 'weekday' (assuming weekday is sorted by name, not by actual order of days)\n",
    "# If you need to sort by the actual order of days, you would first need to map 'weekday' to an ordered categorical\n",
    "ordered_weekdays = [\"Monday\", \"Tuesday\", \"Wednesday\", \"Thursday\", \"Friday\", \"Saturday\", \"Sunday\"]\n",
    "summary['weekday'] = pd.Categorical(summary['weekday'], categories=ordered_weekdays, ordered=True)\n",
    "\n",
    "sorted_summary = summary.sort_values(by=['member_casual', 'weekday'])\n",
    "\n",
    "print(sorted_summary)\n"
   ]
  },
  {
   "cell_type": "code",
   "execution_count": 116,
   "metadata": {},
   "outputs": [
    {
     "data": {
      "image/png": "[encoded data removed]",
      "text/plain": [
       "<Figure size 1000x600 with 1 Axes>"
      ]
     },
     "metadata": {},
     "output_type": "display_data"
    }
   ],
   "source": [
    "import pandas as pd\n",
    "import matplotlib.pyplot as plt\n",
    "import seaborn as sns\n",
    "\n",
    "# Sample data\n",
    "data = {\n",
    "    'weekday': ['Sun', 'Mon', 'Tue', 'Wed', 'Thu', 'Fri', 'Sat'] * 2,\n",
    "    'average_duration': [1200, 1500, 1600, 1400, 1800, 2000, 1700, 3000, 3200, 3100, 3300, 3400, 3600, 3500],\n",
    "    'member_casual': ['member'] * 7 + ['casual'] * 7\n",
    "}\n",
    "\n",
    "# Create DataFrame\n",
    "df = pd.DataFrame(data)\n",
    "\n",
    "# Create the barplot\n",
    "plt.figure(figsize=(10, 6))\n",
    "sns.barplot(x='weekday', y='average_duration', hue='member_casual', data=df)\n",
    "\n",
    "# Customize the plot\n",
    "plt.title('Average Duration by Day and Member Type')\n",
    "plt.xlabel('Weekday')\n",
    "plt.ylabel('Average Duration')\n",
    "\n",
    "# Show the plot\n",
    "plt.show()\n"
   ]
  }
 ],
 "metadata": {
  "kernelspec": {
   "display_name": "Python 3",
   "language": "python",
   "name": "python3"
  },
  "language_info": {
   "codemirror_mode": {
    "name": "ipython",
    "version": 3
   },
   "file_extension": ".py",
   "mimetype": "text/x-python",
   "name": "python",
   "nbconvert_exporter": "python",
   "pygments_lexer": "ipython3",
   "version": "3.11.6"
  }
 },
 "nbformat": 4,
 "nbformat_minor": 2
}
